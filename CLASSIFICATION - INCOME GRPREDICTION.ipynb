{
 "cells": [
  {
   "cell_type": "markdown",
   "metadata": {},
   "source": [
    "#  CLASSIFICATION - INCOME >50K  PREDICTION\n"
   ]
  },
  {
   "cell_type": "code",
   "execution_count": 2,
   "metadata": {},
   "outputs": [],
   "source": [
    "import pandas as pd\n",
    "import numpy as np\n",
    "import matplotlib.pyplot as plt\n",
    "import seaborn as sns\n",
    "import sklearn\n",
    "%matplotlib inline"
   ]
  },
  {
   "cell_type": "markdown",
   "metadata": {},
   "source": [
    "# I.\tData Collection "
   ]
  },
  {
   "cell_type": "markdown",
   "metadata": {},
   "source": [
    "1) Load the ‘census.data.txt’ dataset. I am identified the number of rows and columns on on the data set\n"
   ]
  },
  {
   "cell_type": "code",
   "execution_count": 4,
   "metadata": {},
   "outputs": [
    {
     "data": {
      "text/plain": [
       "(48841, 15)"
      ]
     },
     "execution_count": 4,
     "metadata": {},
     "output_type": "execute_result"
    }
   ],
   "source": [
    "\n",
    "census = pd.read_csv('census.txt') \n",
    "census.shape\n",
    "\n"
   ]
  },
  {
   "cell_type": "markdown",
   "metadata": {},
   "source": [
    "2)\tI am assigning the following names to the columns of the census dataframe\n",
    "#age, workclass, fnlwgt, education, education-num, marital, occupation, relationship, race, sex, capital-gain, capital-loss, hours-per-week, native-country, income>50K"
   ]
  },
  {
   "cell_type": "code",
   "execution_count": 3,
   "metadata": {},
   "outputs": [
    {
     "data": {
      "text/html": [
       "<div>\n",
       "<style scoped>\n",
       "    .dataframe tbody tr th:only-of-type {\n",
       "        vertical-align: middle;\n",
       "    }\n",
       "\n",
       "    .dataframe tbody tr th {\n",
       "        vertical-align: top;\n",
       "    }\n",
       "\n",
       "    .dataframe thead th {\n",
       "        text-align: right;\n",
       "    }\n",
       "</style>\n",
       "<table border=\"1\" class=\"dataframe\">\n",
       "  <thead>\n",
       "    <tr style=\"text-align: right;\">\n",
       "      <th></th>\n",
       "      <th>age</th>\n",
       "      <th>workclass</th>\n",
       "      <th>fnlwgt</th>\n",
       "      <th>education</th>\n",
       "      <th>education-num</th>\n",
       "      <th>marital</th>\n",
       "      <th>occupation</th>\n",
       "      <th>relationship</th>\n",
       "      <th>race</th>\n",
       "      <th>sex</th>\n",
       "      <th>capital-gain</th>\n",
       "      <th>capital-loss</th>\n",
       "      <th>hours-per-week</th>\n",
       "      <th>native-country</th>\n",
       "      <th>income</th>\n",
       "    </tr>\n",
       "  </thead>\n",
       "  <tbody>\n",
       "    <tr>\n",
       "      <th>0</th>\n",
       "      <td>50</td>\n",
       "      <td>Self-emp-not-inc</td>\n",
       "      <td>83311</td>\n",
       "      <td>Bachelors</td>\n",
       "      <td>13</td>\n",
       "      <td>Married-civ-spouse</td>\n",
       "      <td>Exec-managerial</td>\n",
       "      <td>Husband</td>\n",
       "      <td>White</td>\n",
       "      <td>Male</td>\n",
       "      <td>0</td>\n",
       "      <td>0</td>\n",
       "      <td>13</td>\n",
       "      <td>United-States</td>\n",
       "      <td>&lt;=50K</td>\n",
       "    </tr>\n",
       "    <tr>\n",
       "      <th>1</th>\n",
       "      <td>38</td>\n",
       "      <td>Private</td>\n",
       "      <td>215646</td>\n",
       "      <td>HS-grad</td>\n",
       "      <td>9</td>\n",
       "      <td>Divorced</td>\n",
       "      <td>Handlers-cleaners</td>\n",
       "      <td>Not-in-family</td>\n",
       "      <td>White</td>\n",
       "      <td>Male</td>\n",
       "      <td>0</td>\n",
       "      <td>0</td>\n",
       "      <td>40</td>\n",
       "      <td>United-States</td>\n",
       "      <td>&lt;=50K</td>\n",
       "    </tr>\n",
       "    <tr>\n",
       "      <th>2</th>\n",
       "      <td>53</td>\n",
       "      <td>Private</td>\n",
       "      <td>234721</td>\n",
       "      <td>11th</td>\n",
       "      <td>7</td>\n",
       "      <td>Married-civ-spouse</td>\n",
       "      <td>Handlers-cleaners</td>\n",
       "      <td>Husband</td>\n",
       "      <td>Black</td>\n",
       "      <td>Male</td>\n",
       "      <td>0</td>\n",
       "      <td>0</td>\n",
       "      <td>40</td>\n",
       "      <td>United-States</td>\n",
       "      <td>&lt;=50K</td>\n",
       "    </tr>\n",
       "    <tr>\n",
       "      <th>3</th>\n",
       "      <td>28</td>\n",
       "      <td>Private</td>\n",
       "      <td>338409</td>\n",
       "      <td>Bachelors</td>\n",
       "      <td>13</td>\n",
       "      <td>Married-civ-spouse</td>\n",
       "      <td>Prof-specialty</td>\n",
       "      <td>Wife</td>\n",
       "      <td>Black</td>\n",
       "      <td>Female</td>\n",
       "      <td>0</td>\n",
       "      <td>0</td>\n",
       "      <td>40</td>\n",
       "      <td>Cuba</td>\n",
       "      <td>&lt;=50K</td>\n",
       "    </tr>\n",
       "    <tr>\n",
       "      <th>4</th>\n",
       "      <td>37</td>\n",
       "      <td>Private</td>\n",
       "      <td>284582</td>\n",
       "      <td>Masters</td>\n",
       "      <td>14</td>\n",
       "      <td>Married-civ-spouse</td>\n",
       "      <td>Exec-managerial</td>\n",
       "      <td>Wife</td>\n",
       "      <td>White</td>\n",
       "      <td>Female</td>\n",
       "      <td>0</td>\n",
       "      <td>0</td>\n",
       "      <td>40</td>\n",
       "      <td>United-States</td>\n",
       "      <td>&lt;=50K</td>\n",
       "    </tr>\n",
       "    <tr>\n",
       "      <th>5</th>\n",
       "      <td>49</td>\n",
       "      <td>Private</td>\n",
       "      <td>160187</td>\n",
       "      <td>9th</td>\n",
       "      <td>5</td>\n",
       "      <td>Married-spouse-absent</td>\n",
       "      <td>Other-service</td>\n",
       "      <td>Not-in-family</td>\n",
       "      <td>Black</td>\n",
       "      <td>Female</td>\n",
       "      <td>0</td>\n",
       "      <td>0</td>\n",
       "      <td>16</td>\n",
       "      <td>Jamaica</td>\n",
       "      <td>&lt;=50K</td>\n",
       "    </tr>\n",
       "    <tr>\n",
       "      <th>6</th>\n",
       "      <td>52</td>\n",
       "      <td>Self-emp-not-inc</td>\n",
       "      <td>209642</td>\n",
       "      <td>HS-grad</td>\n",
       "      <td>9</td>\n",
       "      <td>Married-civ-spouse</td>\n",
       "      <td>Exec-managerial</td>\n",
       "      <td>Husband</td>\n",
       "      <td>White</td>\n",
       "      <td>Male</td>\n",
       "      <td>0</td>\n",
       "      <td>0</td>\n",
       "      <td>45</td>\n",
       "      <td>United-States</td>\n",
       "      <td>&gt;50K</td>\n",
       "    </tr>\n",
       "    <tr>\n",
       "      <th>7</th>\n",
       "      <td>31</td>\n",
       "      <td>Private</td>\n",
       "      <td>45781</td>\n",
       "      <td>Masters</td>\n",
       "      <td>14</td>\n",
       "      <td>Never-married</td>\n",
       "      <td>Prof-specialty</td>\n",
       "      <td>Not-in-family</td>\n",
       "      <td>White</td>\n",
       "      <td>Female</td>\n",
       "      <td>14084</td>\n",
       "      <td>0</td>\n",
       "      <td>50</td>\n",
       "      <td>United-States</td>\n",
       "      <td>&gt;50K</td>\n",
       "    </tr>\n",
       "    <tr>\n",
       "      <th>8</th>\n",
       "      <td>42</td>\n",
       "      <td>Private</td>\n",
       "      <td>159449</td>\n",
       "      <td>Bachelors</td>\n",
       "      <td>13</td>\n",
       "      <td>Married-civ-spouse</td>\n",
       "      <td>Exec-managerial</td>\n",
       "      <td>Husband</td>\n",
       "      <td>White</td>\n",
       "      <td>Male</td>\n",
       "      <td>5178</td>\n",
       "      <td>0</td>\n",
       "      <td>40</td>\n",
       "      <td>United-States</td>\n",
       "      <td>&gt;50K</td>\n",
       "    </tr>\n",
       "    <tr>\n",
       "      <th>9</th>\n",
       "      <td>37</td>\n",
       "      <td>Private</td>\n",
       "      <td>280464</td>\n",
       "      <td>Some-college</td>\n",
       "      <td>10</td>\n",
       "      <td>Married-civ-spouse</td>\n",
       "      <td>Exec-managerial</td>\n",
       "      <td>Husband</td>\n",
       "      <td>Black</td>\n",
       "      <td>Male</td>\n",
       "      <td>0</td>\n",
       "      <td>0</td>\n",
       "      <td>80</td>\n",
       "      <td>United-States</td>\n",
       "      <td>&gt;50K</td>\n",
       "    </tr>\n",
       "  </tbody>\n",
       "</table>\n",
       "</div>"
      ],
      "text/plain": [
       "   age          workclass  fnlwgt      education  education-num  \\\n",
       "0   50   Self-emp-not-inc   83311      Bachelors             13   \n",
       "1   38            Private  215646        HS-grad              9   \n",
       "2   53            Private  234721           11th              7   \n",
       "3   28            Private  338409      Bachelors             13   \n",
       "4   37            Private  284582        Masters             14   \n",
       "5   49            Private  160187            9th              5   \n",
       "6   52   Self-emp-not-inc  209642        HS-grad              9   \n",
       "7   31            Private   45781        Masters             14   \n",
       "8   42            Private  159449      Bachelors             13   \n",
       "9   37            Private  280464   Some-college             10   \n",
       "\n",
       "                  marital          occupation    relationship    race  \\\n",
       "0      Married-civ-spouse     Exec-managerial         Husband   White   \n",
       "1                Divorced   Handlers-cleaners   Not-in-family   White   \n",
       "2      Married-civ-spouse   Handlers-cleaners         Husband   Black   \n",
       "3      Married-civ-spouse      Prof-specialty            Wife   Black   \n",
       "4      Married-civ-spouse     Exec-managerial            Wife   White   \n",
       "5   Married-spouse-absent       Other-service   Not-in-family   Black   \n",
       "6      Married-civ-spouse     Exec-managerial         Husband   White   \n",
       "7           Never-married      Prof-specialty   Not-in-family   White   \n",
       "8      Married-civ-spouse     Exec-managerial         Husband   White   \n",
       "9      Married-civ-spouse     Exec-managerial         Husband   Black   \n",
       "\n",
       "       sex  capital-gain  capital-loss  hours-per-week  native-country  income  \n",
       "0     Male             0             0              13   United-States   <=50K  \n",
       "1     Male             0             0              40   United-States   <=50K  \n",
       "2     Male             0             0              40   United-States   <=50K  \n",
       "3   Female             0             0              40            Cuba   <=50K  \n",
       "4   Female             0             0              40   United-States   <=50K  \n",
       "5   Female             0             0              16         Jamaica   <=50K  \n",
       "6     Male             0             0              45   United-States    >50K  \n",
       "7   Female         14084             0              50   United-States    >50K  \n",
       "8     Male          5178             0              40   United-States    >50K  \n",
       "9     Male             0             0              80   United-States    >50K  "
      ]
     },
     "execution_count": 3,
     "metadata": {},
     "output_type": "execute_result"
    }
   ],
   "source": [
    "\n",
    "names = ['age', 'workclass', 'fnlwgt', 'education', 'education-num', 'marital', 'occupation', 'relationship', 'race', 'sex', 'capital-gain', 'capital-loss', 'hours-per-week', 'native-country', 'income']\n",
    "census.columns = names\n",
    "census.head(10)"
   ]
  },
  {
   "cell_type": "markdown",
   "metadata": {},
   "source": [
    "# II.\tPreliminary Data Exploration & Preparation"
   ]
  },
  {
   "cell_type": "markdown",
   "metadata": {},
   "source": [
    "3)\tHow many categories of attributes are there? List column names by the type (categorical, numeric)\n",
    "-\tThere are 9 possible categories in the data set"
   ]
  },
  {
   "cell_type": "code",
   "execution_count": 4,
   "metadata": {
    "scrolled": true
   },
   "outputs": [
    {
     "name": "stdout",
     "output_type": "stream",
     "text": [
      "<class 'pandas.core.frame.DataFrame'>\n",
      "RangeIndex: 48841 entries, 0 to 48840\n",
      "Data columns (total 15 columns):\n",
      " #   Column          Non-Null Count  Dtype \n",
      "---  ------          --------------  ----- \n",
      " 0   age             48841 non-null  int64 \n",
      " 1   workclass       48841 non-null  object\n",
      " 2   fnlwgt          48841 non-null  int64 \n",
      " 3   education       48841 non-null  object\n",
      " 4   education-num   48841 non-null  int64 \n",
      " 5   marital         48841 non-null  object\n",
      " 6   occupation      48841 non-null  object\n",
      " 7   relationship    48841 non-null  object\n",
      " 8   race            48841 non-null  object\n",
      " 9   sex             48841 non-null  object\n",
      " 10  capital-gain    48841 non-null  int64 \n",
      " 11  capital-loss    48841 non-null  int64 \n",
      " 12  hours-per-week  48841 non-null  int64 \n",
      " 13  native-country  48841 non-null  object\n",
      " 14  income          48841 non-null  object\n",
      "dtypes: int64(6), object(9)\n",
      "memory usage: 5.6+ MB\n",
      "None\n"
     ]
    }
   ],
   "source": [
    "print(census.info())\n"
   ]
  },
  {
   "cell_type": "markdown",
   "metadata": {},
   "source": [
    "4)\tAre there any missing values in the data set? If so, identify which columns have missing values and how many missing values\n",
    "- There are no missing values"
   ]
  },
  {
   "cell_type": "code",
   "execution_count": 5,
   "metadata": {},
   "outputs": [
    {
     "data": {
      "text/plain": [
       "age               0\n",
       "workclass         0\n",
       "fnlwgt            0\n",
       "education         0\n",
       "education-num     0\n",
       "marital           0\n",
       "occupation        0\n",
       "relationship      0\n",
       "race              0\n",
       "sex               0\n",
       "capital-gain      0\n",
       "capital-loss      0\n",
       "hours-per-week    0\n",
       "native-country    0\n",
       "income            0\n",
       "dtype: int64"
      ]
     },
     "execution_count": 5,
     "metadata": {},
     "output_type": "execute_result"
    }
   ],
   "source": [
    "\n",
    "census.isnull().sum() "
   ]
  },
  {
   "cell_type": "markdown",
   "metadata": {},
   "source": [
    "5)\tAre there any duplicates, outliers and any inconsistencies? Remove duplicates and inconsistencies if present?"
   ]
  },
  {
   "cell_type": "code",
   "execution_count": 6,
   "metadata": {},
   "outputs": [
    {
     "name": "stdout",
     "output_type": "stream",
     "text": [
      "       age          workclass  fnlwgt      education  education-num  \\\n",
      "4880    25            Private  308144      Bachelors             13   \n",
      "5103    90            Private   52386   Some-college             10   \n",
      "9170    21            Private  250051   Some-college             10   \n",
      "11630   20            Private  107658   Some-college             10   \n",
      "13083   25            Private  195994        1st-4th              2   \n",
      "15058   21            Private  243368      Preschool              1   \n",
      "17039   46            Private  173243        HS-grad              9   \n",
      "18554   30            Private  144593        HS-grad              9   \n",
      "18697   19            Private   97261        HS-grad              9   \n",
      "21317   19            Private  138153   Some-college             10   \n",
      "21489   19            Private  146679   Some-college             10   \n",
      "21874   49            Private   31267        7th-8th              4   \n",
      "22299   25            Private  195994        1st-4th              2   \n",
      "22366   44            Private  367749      Bachelors             13   \n",
      "22493   49   Self-emp-not-inc   43479   Some-college             10   \n",
      "25871   23            Private  240137        5th-6th              3   \n",
      "26312   28            Private  274679        Masters             14   \n",
      "28229   27            Private  255582        HS-grad              9   \n",
      "28521   42            Private  204235   Some-college             10   \n",
      "28845   39            Private   30916        HS-grad              9   \n",
      "29156   38            Private  207202        HS-grad              9   \n",
      "30844   46            Private  133616   Some-college             10   \n",
      "31992   19            Private  251579   Some-college             10   \n",
      "32403   35            Private  379959        HS-grad              9   \n",
      "33424   24            Private  194630      Bachelors             13   \n",
      "34228   19            Private  130431        5th-6th              3   \n",
      "34414   22            Private  137876   Some-college             10   \n",
      "34423   20                  ?  203353   Some-college             10   \n",
      "36712   17            Private  153021           12th              8   \n",
      "37638   29                  ?   41281      Bachelors             13   \n",
      "38342   21            Private  301694        HS-grad              9   \n",
      "38467   41            Private  116391      Bachelors             13   \n",
      "38992   22                  ?  334593   Some-college             10   \n",
      "39016   19            Private  139466   Some-college             10   \n",
      "39910   30            Private  111567        HS-grad              9   \n",
      "40676   19                  ?  167428   Some-college             10   \n",
      "42385   25            Private  112835      Bachelors             13   \n",
      "43386   23            Private  250630      Bachelors             13   \n",
      "43483   23            Private  239539        HS-grad              9   \n",
      "43749   37            Private   52870      Bachelors             13   \n",
      "43772   29            Private   36440      Bachelors             13   \n",
      "44306   47            Private  199058   Some-college             10   \n",
      "45048   39            Private  184659        HS-grad              9   \n",
      "46064   45            Private   82797      Bachelors             13   \n",
      "46408   30            Private  180317      Assoc-voc             11   \n",
      "46713   21            Private  243368      Preschool              1   \n",
      "46868   25            Private  308144      Bachelors             13   \n",
      "46958   19            Private  318822        HS-grad              9   \n",
      "47047   31            Private  228873        HS-grad              9   \n",
      "47398   43            Private  195258        HS-grad              9   \n",
      "47883   23            Private  107882      Bachelors             13   \n",
      "48520   18       Self-emp-inc  378036           12th              8   \n",
      "\n",
      "                      marital          occupation    relationship  \\\n",
      "4880            Never-married        Craft-repair   Not-in-family   \n",
      "5103            Never-married       Other-service   Not-in-family   \n",
      "9170            Never-married      Prof-specialty       Own-child   \n",
      "11630           Never-married        Tech-support   Not-in-family   \n",
      "13083           Never-married     Priv-house-serv   Not-in-family   \n",
      "15058           Never-married     Farming-fishing   Not-in-family   \n",
      "17039      Married-civ-spouse        Craft-repair         Husband   \n",
      "18554           Never-married       Other-service   Not-in-family   \n",
      "18697           Never-married     Farming-fishing   Not-in-family   \n",
      "21317           Never-married        Adm-clerical       Own-child   \n",
      "21489           Never-married     Exec-managerial       Own-child   \n",
      "21874      Married-civ-spouse        Craft-repair         Husband   \n",
      "22299           Never-married     Priv-house-serv   Not-in-family   \n",
      "22366           Never-married      Prof-specialty   Not-in-family   \n",
      "22493      Married-civ-spouse        Craft-repair         Husband   \n",
      "25871           Never-married   Handlers-cleaners   Not-in-family   \n",
      "26312           Never-married      Prof-specialty   Not-in-family   \n",
      "28229           Never-married   Machine-op-inspct   Not-in-family   \n",
      "28521      Married-civ-spouse      Prof-specialty         Husband   \n",
      "28845      Married-civ-spouse        Craft-repair         Husband   \n",
      "29156      Married-civ-spouse   Machine-op-inspct         Husband   \n",
      "30844                Divorced        Adm-clerical       Unmarried   \n",
      "31992           Never-married       Other-service       Own-child   \n",
      "32403                Divorced       Other-service   Not-in-family   \n",
      "33424           Never-married      Prof-specialty   Not-in-family   \n",
      "34228           Never-married     Farming-fishing   Not-in-family   \n",
      "34414           Never-married     Protective-serv   Not-in-family   \n",
      "34423           Never-married                   ?       Own-child   \n",
      "36712           Never-married               Sales       Own-child   \n",
      "37638   Married-spouse-absent                   ?   Not-in-family   \n",
      "38342           Never-married        Craft-repair   Not-in-family   \n",
      "38467      Married-civ-spouse     Exec-managerial         Husband   \n",
      "38992           Never-married                   ?   Not-in-family   \n",
      "39016           Never-married               Sales       Own-child   \n",
      "39910           Never-married        Craft-repair       Own-child   \n",
      "40676           Never-married                   ?       Own-child   \n",
      "42385           Never-married      Prof-specialty   Not-in-family   \n",
      "43386           Never-married               Sales   Not-in-family   \n",
      "43483           Never-married   Machine-op-inspct       Own-child   \n",
      "43749      Married-civ-spouse     Exec-managerial         Husband   \n",
      "43772           Never-married        Adm-clerical   Not-in-family   \n",
      "44306      Married-civ-spouse      Prof-specialty         Husband   \n",
      "45048      Married-civ-spouse   Machine-op-inspct         Husband   \n",
      "46064      Married-civ-spouse     Exec-managerial         Husband   \n",
      "46408                Divorced   Machine-op-inspct   Not-in-family   \n",
      "46713           Never-married     Farming-fishing   Not-in-family   \n",
      "46868           Never-married        Craft-repair   Not-in-family   \n",
      "46958           Never-married        Adm-clerical   Not-in-family   \n",
      "47047      Married-civ-spouse        Craft-repair         Husband   \n",
      "47398      Married-civ-spouse        Craft-repair         Husband   \n",
      "47883           Never-married        Adm-clerical       Own-child   \n",
      "48520           Never-married     Farming-fishing       Own-child   \n",
      "\n",
      "                      race      sex  capital-gain  capital-loss  \\\n",
      "4880                 White     Male             0             0   \n",
      "5103    Asian-Pac-Islander     Male             0             0   \n",
      "9170                 White   Female             0             0   \n",
      "11630                White   Female             0             0   \n",
      "13083                White   Female             0             0   \n",
      "15058                White     Male             0             0   \n",
      "17039                White     Male             0             0   \n",
      "18554                Black     Male             0             0   \n",
      "18697                White     Male             0             0   \n",
      "21317                White   Female             0             0   \n",
      "21489                Black     Male             0             0   \n",
      "21874                White     Male             0             0   \n",
      "22299                White   Female             0             0   \n",
      "22366                White   Female             0             0   \n",
      "22493                White     Male             0             0   \n",
      "25871                White     Male             0             0   \n",
      "26312                White     Male             0             0   \n",
      "28229                White   Female             0             0   \n",
      "28521                White     Male             0             0   \n",
      "28845                White     Male             0             0   \n",
      "29156                White     Male             0             0   \n",
      "30844                White   Female             0             0   \n",
      "31992                White     Male             0             0   \n",
      "32403                White   Female             0             0   \n",
      "33424                White     Male             0             0   \n",
      "34228                White     Male             0             0   \n",
      "34414                White     Male             0             0   \n",
      "34423                White   Female             0             0   \n",
      "36712                White   Female             0             0   \n",
      "37638                White     Male             0             0   \n",
      "38342                White     Male             0             0   \n",
      "38467                White     Male             0             0   \n",
      "38992                White     Male             0             0   \n",
      "39016                White   Female             0             0   \n",
      "39910                White     Male             0             0   \n",
      "40676                White     Male             0             0   \n",
      "42385                White     Male             0             0   \n",
      "43386                White   Female             0             0   \n",
      "43483   Asian-Pac-Islander     Male             0             0   \n",
      "43749                White     Male             0             0   \n",
      "43772                White   Female             0             0   \n",
      "44306                White     Male             0             0   \n",
      "45048                White     Male             0             0   \n",
      "46064                White     Male             0             0   \n",
      "46408                White     Male             0             0   \n",
      "46713                White     Male             0             0   \n",
      "46868                White     Male             0             0   \n",
      "46958                White   Female             0             0   \n",
      "47047                White     Male             0             0   \n",
      "47398                White     Male             0             0   \n",
      "47883                White   Female             0             0   \n",
      "48520                White     Male             0             0   \n",
      "\n",
      "       hours-per-week  native-country  income  \n",
      "4880               40          Mexico   <=50K  \n",
      "5103               35   United-States   <=50K  \n",
      "9170               10   United-States   <=50K  \n",
      "11630              10   United-States   <=50K  \n",
      "13083              40       Guatemala   <=50K  \n",
      "15058              50          Mexico   <=50K  \n",
      "17039              40   United-States   <=50K  \n",
      "18554              40               ?   <=50K  \n",
      "18697              40   United-States   <=50K  \n",
      "21317              10   United-States   <=50K  \n",
      "21489              30   United-States   <=50K  \n",
      "21874              40   United-States   <=50K  \n",
      "22299              40       Guatemala   <=50K  \n",
      "22366              45          Mexico   <=50K  \n",
      "22493              40   United-States   <=50K  \n",
      "25871              55          Mexico   <=50K  \n",
      "26312              50   United-States   <=50K  \n",
      "28229              40   United-States   <=50K  \n",
      "28521              40   United-States    >50K  \n",
      "28845              40   United-States   <=50K  \n",
      "29156              48   United-States    >50K  \n",
      "30844              40   United-States   <=50K  \n",
      "31992              14   United-States   <=50K  \n",
      "32403              40   United-States   <=50K  \n",
      "33424              35   United-States   <=50K  \n",
      "34228              36          Mexico   <=50K  \n",
      "34414              20   United-States   <=50K  \n",
      "34423              40   United-States   <=50K  \n",
      "36712              20   United-States   <=50K  \n",
      "37638              50   United-States   <=50K  \n",
      "38342              35          Mexico   <=50K  \n",
      "38467              40   United-States    >50K  \n",
      "38992              40   United-States   <=50K  \n",
      "39016              25   United-States   <=50K  \n",
      "39910              48   United-States   <=50K  \n",
      "40676              40   United-States   <=50K  \n",
      "42385              40   United-States   <=50K  \n",
      "43386              40   United-States   <=50K  \n",
      "43483              40     Philippines   <=50K  \n",
      "43749              40   United-States   <=50K  \n",
      "43772              40   United-States   <=50K  \n",
      "44306              40   United-States    >50K  \n",
      "45048              40   United-States   <=50K  \n",
      "46064              45   United-States    >50K  \n",
      "46408              40   United-States   <=50K  \n",
      "46713              50          Mexico   <=50K  \n",
      "46868              40          Mexico   <=50K  \n",
      "46958              40   United-States   <=50K  \n",
      "47047              40   United-States   <=50K  \n",
      "47398              40   United-States    >50K  \n",
      "47883              40   United-States   <=50K  \n",
      "48520              10   United-States   <=50K  \n"
     ]
    }
   ],
   "source": [
    "#a) Duplicates\n",
    "duplicates = census[census.duplicated()]\n",
    "print (duplicates)\n"
   ]
  },
  {
   "cell_type": "code",
   "execution_count": 7,
   "metadata": {},
   "outputs": [],
   "source": [
    "#b) Remove duplicates\n",
    "census.drop_duplicates(subset=None, keep='first', inplace=True)\n"
   ]
  },
  {
   "cell_type": "code",
   "execution_count": 8,
   "metadata": {},
   "outputs": [
    {
     "data": {
      "text/plain": [
       "(48789, 15)"
      ]
     },
     "execution_count": 8,
     "metadata": {},
     "output_type": "execute_result"
    }
   ],
   "source": [
    "census.shape"
   ]
  },
  {
   "cell_type": "code",
   "execution_count": 9,
   "metadata": {},
   "outputs": [
    {
     "name": "stdout",
     "output_type": "stream",
     "text": [
      "age                int64\n",
      "workclass         object\n",
      "fnlwgt             int64\n",
      "education         object\n",
      "education-num      int64\n",
      "marital           object\n",
      "occupation        object\n",
      "relationship      object\n",
      "race              object\n",
      "sex               object\n",
      "capital-gain       int64\n",
      "capital-loss       int64\n",
      "hours-per-week     int64\n",
      "native-country    object\n",
      "income            object\n",
      "dtype: object\n",
      "   age          workclass  fnlwgt   education  education-num  \\\n",
      "0   50   Self-emp-not-inc   83311   Bachelors             13   \n",
      "1   38            Private  215646     HS-grad              9   \n",
      "2   53            Private  234721        11th              7   \n",
      "\n",
      "               marital          occupation    relationship    race    sex  \\\n",
      "0   Married-civ-spouse     Exec-managerial         Husband   White   Male   \n",
      "1             Divorced   Handlers-cleaners   Not-in-family   White   Male   \n",
      "2   Married-civ-spouse   Handlers-cleaners         Husband   Black   Male   \n",
      "\n",
      "   capital-gain  capital-loss  hours-per-week  native-country  income  \n",
      "0             0             0              13   United-States   <=50K  \n",
      "1             0             0              40   United-States   <=50K  \n",
      "2             0             0              40   United-States   <=50K  \n"
     ]
    }
   ],
   "source": [
    "#c) Identifying if there is data types Inconsistencies\n",
    "print(census.dtypes)\n",
    "print(census.head(3))"
   ]
  },
  {
   "cell_type": "code",
   "execution_count": 10,
   "metadata": {},
   "outputs": [
    {
     "name": "stdout",
     "output_type": "stream",
     "text": [
      "False    48789\n",
      "Name: age, dtype: int64\n",
      "False    48789\n",
      "Name: fnlwgt, dtype: int64\n",
      "False    48789\n",
      "Name: education-num, dtype: int64\n",
      "False    48789\n",
      "Name: capital-gain, dtype: int64\n",
      "False    48789\n",
      "Name: capital-loss, dtype: int64\n",
      "False    48789\n",
      "Name: hours-per-week, dtype: int64\n"
     ]
    }
   ],
   "source": [
    "#I am trying to convert all the int64 values to numeric and counting how many values are converted. The output shows there's none converted therefore I can say there's no dats typ inconsistency in these columns \n",
    "print(pd.to_numeric(census['age'], errors='coerce').isnull().value_counts())\n",
    "print(pd.to_numeric(census['fnlwgt'], errors='coerce').isnull().value_counts())\n",
    "print(pd.to_numeric(census['education-num'], errors='coerce').isnull().value_counts())\n",
    "print(pd.to_numeric(census['capital-gain'], errors='coerce').isnull().value_counts())\n",
    "print(pd.to_numeric(census['capital-loss'], errors='coerce').isnull().value_counts())\n",
    "print(pd.to_numeric(census['hours-per-week'], errors='coerce').isnull().value_counts())\n",
    "\n"
   ]
  },
  {
   "cell_type": "code",
   "execution_count": 11,
   "metadata": {},
   "outputs": [
    {
     "name": "stdout",
     "output_type": "stream",
     "text": [
      "age               float64\n",
      "workclass          object\n",
      "fnlwgt              int64\n",
      "education          object\n",
      "education-num       int64\n",
      "marital            object\n",
      "occupation         object\n",
      "relationship       object\n",
      "race               object\n",
      "sex                object\n",
      "capital-gain        int64\n",
      "capital-loss        int64\n",
      "hours-per-week    float64\n",
      "native-country     object\n",
      "income             object\n",
      "dtype: object\n"
     ]
    }
   ],
   "source": [
    "#changed age and hours_per_week data types to float to give the values more precision\n",
    "census.age = census.age.astype(float)\n",
    "census['hours-per-week'] = census['hours-per-week'].astype(float)\n",
    "print(census.dtypes)\n"
   ]
  },
  {
   "cell_type": "code",
   "execution_count": 12,
   "metadata": {},
   "outputs": [
    {
     "data": {
      "text/plain": [
       "<matplotlib.axes._subplots.AxesSubplot at 0x25fb84bcac8>"
      ]
     },
     "execution_count": 12,
     "metadata": {},
     "output_type": "execute_result"
    },
    {
     "data": {
      "image/png": "[encoded data removed]",
      "text/plain": [
       "<Figure size 1080x144 with 1 Axes>"
      ]
     },
     "metadata": {
      "needs_background": "light"
     },
     "output_type": "display_data"
    }
   ],
   "source": [
    "# 7)\tPerform descriptive and exploratory analytics\n",
    "#The data has more records of income level <50k\n",
    "\n",
    "fig = plt.figure(figsize=(15,2))\n",
    "plt.style.use('seaborn-ticks')\n",
    "sns.countplot(y=\"income\", data=census)"
   ]
  },
  {
   "cell_type": "code",
   "execution_count": 13,
   "metadata": {},
   "outputs": [
    {
     "data": {
      "text/html": [
       "<div>\n",
       "<style scoped>\n",
       "    .dataframe tbody tr th:only-of-type {\n",
       "        vertical-align: middle;\n",
       "    }\n",
       "\n",
       "    .dataframe tbody tr th {\n",
       "        vertical-align: top;\n",
       "    }\n",
       "\n",
       "    .dataframe thead th {\n",
       "        text-align: right;\n",
       "    }\n",
       "</style>\n",
       "<table border=\"1\" class=\"dataframe\">\n",
       "  <thead>\n",
       "    <tr style=\"text-align: right;\">\n",
       "      <th></th>\n",
       "      <th>education</th>\n",
       "      <th>education-num</th>\n",
       "    </tr>\n",
       "  </thead>\n",
       "  <tbody>\n",
       "    <tr>\n",
       "      <th>10</th>\n",
       "      <td>Doctorate</td>\n",
       "      <td>16</td>\n",
       "    </tr>\n",
       "    <tr>\n",
       "      <th>14</th>\n",
       "      <td>Prof-school</td>\n",
       "      <td>15</td>\n",
       "    </tr>\n",
       "    <tr>\n",
       "      <th>12</th>\n",
       "      <td>Masters</td>\n",
       "      <td>14</td>\n",
       "    </tr>\n",
       "    <tr>\n",
       "      <th>9</th>\n",
       "      <td>Bachelors</td>\n",
       "      <td>13</td>\n",
       "    </tr>\n",
       "    <tr>\n",
       "      <th>7</th>\n",
       "      <td>Assoc-acdm</td>\n",
       "      <td>12</td>\n",
       "    </tr>\n",
       "    <tr>\n",
       "      <th>8</th>\n",
       "      <td>Assoc-voc</td>\n",
       "      <td>11</td>\n",
       "    </tr>\n",
       "    <tr>\n",
       "      <th>15</th>\n",
       "      <td>Some-college</td>\n",
       "      <td>10</td>\n",
       "    </tr>\n",
       "    <tr>\n",
       "      <th>11</th>\n",
       "      <td>HS-grad</td>\n",
       "      <td>9</td>\n",
       "    </tr>\n",
       "    <tr>\n",
       "      <th>2</th>\n",
       "      <td>12th</td>\n",
       "      <td>8</td>\n",
       "    </tr>\n",
       "    <tr>\n",
       "      <th>1</th>\n",
       "      <td>11th</td>\n",
       "      <td>7</td>\n",
       "    </tr>\n",
       "    <tr>\n",
       "      <th>0</th>\n",
       "      <td>10th</td>\n",
       "      <td>6</td>\n",
       "    </tr>\n",
       "    <tr>\n",
       "      <th>6</th>\n",
       "      <td>9th</td>\n",
       "      <td>5</td>\n",
       "    </tr>\n",
       "    <tr>\n",
       "      <th>5</th>\n",
       "      <td>7th-8th</td>\n",
       "      <td>4</td>\n",
       "    </tr>\n",
       "    <tr>\n",
       "      <th>4</th>\n",
       "      <td>5th-6th</td>\n",
       "      <td>3</td>\n",
       "    </tr>\n",
       "    <tr>\n",
       "      <th>3</th>\n",
       "      <td>1st-4th</td>\n",
       "      <td>2</td>\n",
       "    </tr>\n",
       "    <tr>\n",
       "      <th>13</th>\n",
       "      <td>Preschool</td>\n",
       "      <td>1</td>\n",
       "    </tr>\n",
       "  </tbody>\n",
       "</table>\n",
       "</div>"
      ],
      "text/plain": [
       "        education  education-num\n",
       "10      Doctorate             16\n",
       "14    Prof-school             15\n",
       "12        Masters             14\n",
       "9       Bachelors             13\n",
       "7      Assoc-acdm             12\n",
       "8       Assoc-voc             11\n",
       "15   Some-college             10\n",
       "11        HS-grad              9\n",
       "2            12th              8\n",
       "1            11th              7\n",
       "0            10th              6\n",
       "6             9th              5\n",
       "5         7th-8th              4\n",
       "4         5th-6th              3\n",
       "3         1st-4th              2\n",
       "13      Preschool              1"
      ]
     },
     "execution_count": 13,
     "metadata": {},
     "output_type": "execute_result"
    }
   ],
   "source": [
    "\n",
    "#Analyzing education and education_num attributes \n",
    "\n",
    "census[['education', 'education-num']].groupby(['education'], as_index=False).mean().sort_values(by='education-num', ascending=False)"
   ]
  },
  {
   "cell_type": "code",
   "execution_count": 14,
   "metadata": {},
   "outputs": [],
   "source": [
    "# Cleaning up education attribute to better categorize the values for simpler visualization/analysis\n",
    "census['education']=census['education'].replace('Preschool', 'dropout',regex=True)\n",
    "census['education']=census['education'].replace('10th', 'dropout',regex=True)\n",
    "census['education']=census['education'].replace('11th', 'dropout',regex=True)\n",
    "census['education']=census['education'].replace('12th', 'dropout',regex=True)\n",
    "census['education']=census['education'].replace('1st-4th', 'dropout',regex=True)\n",
    "census['education']=census['education'].replace('5th-6th', 'dropout',regex=True)\n",
    "census['education']=census['education'].replace('7th-8th', 'dropout',regex=True)\n",
    "census['education']=census['education'].replace('9th', 'dropout',regex=True)\n",
    "census['education']=census['education'].replace('HS-grad', 'HighSchool-Grad',regex=True)\n",
    "census['education']=census['education'].replace('Some-college', 'CommunityCollege',regex=True)\n",
    "census['education']=census['education'].replace('Assoc-acdm', 'CommunityCollege',regex=True)\n",
    "census['education']=census['education'].replace('Assoc-voc', 'CommunityCollege',regex=True)\n",
    "census['education']=census['education'].replace('Bachelors', 'Bachelors',regex=True)\n",
    "census['education']=census['education'].replace('Masters', 'Masters',regex=True)\n",
    "census['education']=census['education'].replace('Prof-school', 'Masters',regex=True)\n",
    "census['education']=census['education'].replace('Doctorate', 'Doctorate',regex=True)\n"
   ]
  },
  {
   "cell_type": "code",
   "execution_count": 15,
   "metadata": {},
   "outputs": [
    {
     "data": {
      "text/html": [
       "<div>\n",
       "<style scoped>\n",
       "    .dataframe tbody tr th:only-of-type {\n",
       "        vertical-align: middle;\n",
       "    }\n",
       "\n",
       "    .dataframe tbody tr th {\n",
       "        vertical-align: top;\n",
       "    }\n",
       "\n",
       "    .dataframe thead th {\n",
       "        text-align: right;\n",
       "    }\n",
       "</style>\n",
       "<table border=\"1\" class=\"dataframe\">\n",
       "  <thead>\n",
       "    <tr style=\"text-align: right;\">\n",
       "      <th></th>\n",
       "      <th>education</th>\n",
       "      <th>education-num</th>\n",
       "    </tr>\n",
       "  </thead>\n",
       "  <tbody>\n",
       "    <tr>\n",
       "      <th>2</th>\n",
       "      <td>Doctorate</td>\n",
       "      <td>16.000000</td>\n",
       "    </tr>\n",
       "    <tr>\n",
       "      <th>4</th>\n",
       "      <td>Masters</td>\n",
       "      <td>14.238968</td>\n",
       "    </tr>\n",
       "    <tr>\n",
       "      <th>0</th>\n",
       "      <td>Bachelors</td>\n",
       "      <td>13.000000</td>\n",
       "    </tr>\n",
       "    <tr>\n",
       "      <th>1</th>\n",
       "      <td>CommunityCollege</td>\n",
       "      <td>10.362297</td>\n",
       "    </tr>\n",
       "    <tr>\n",
       "      <th>3</th>\n",
       "      <td>HighSchool-Grad</td>\n",
       "      <td>9.000000</td>\n",
       "    </tr>\n",
       "    <tr>\n",
       "      <th>5</th>\n",
       "      <td>dropout</td>\n",
       "      <td>5.617440</td>\n",
       "    </tr>\n",
       "  </tbody>\n",
       "</table>\n",
       "</div>"
      ],
      "text/plain": [
       "           education  education-num\n",
       "2          Doctorate      16.000000\n",
       "4            Masters      14.238968\n",
       "0          Bachelors      13.000000\n",
       "1   CommunityCollege      10.362297\n",
       "3    HighSchool-Grad       9.000000\n",
       "5            dropout       5.617440"
      ]
     },
     "execution_count": 15,
     "metadata": {},
     "output_type": "execute_result"
    }
   ],
   "source": [
    "census[['education', 'education-num']].groupby(['education'], as_index=False).mean().sort_values(by='education-num', ascending=False)"
   ]
  },
  {
   "cell_type": "code",
   "execution_count": 16,
   "metadata": {},
   "outputs": [
    {
     "data": {
      "text/plain": [
       "<matplotlib.axes._subplots.AxesSubplot at 0x25fbd480bc8>"
      ]
     },
     "execution_count": 16,
     "metadata": {},
     "output_type": "execute_result"
    },
    {
     "data": {
      "image/png": "[encoded data removed]",
      "text/plain": [
       "<Figure size 1080x360 with 1 Axes>"
      ]
     },
     "metadata": {},
     "output_type": "display_data"
    }
   ],
   "source": [
    "# a)\tWhich educational group seems to have the highest proportion of people making greater than 50K?\n",
    "\n",
    "fig = plt.figure(figsize=(15,5))\n",
    "plt.style.use('seaborn-whitegrid')\n",
    "\n",
    "# x, y, hue = \"education\", \"prop\", \"income\"\n",
    "sns.countplot(y=\"education\", data=census)\n",
    "\n",
    "\n",
    "# plt.subplot(1, 2, 2)\n",
    "# sns.distplot(census['education']);\n",
    "# sns.distplot(census[census['income'] == '>50K']['education'], kde_kws={\"income\": \">$50K\"})\n",
    "# sns.distplot(census[census['income'] == '<=50K']['education'], kde_kws={\"income\": \"<$50K\"})\n",
    "# plt.ylim(0, None)\n",
    "# plt.xlim(20, 60)"
   ]
  },
  {
   "cell_type": "markdown",
   "metadata": {},
   "source": [
    "a)\tWhich educational group seems to have the highest proportion of people making greater than 50K?\n",
    "-  Bachelors education seems to have highest proportion of people making greater than 50K"
   ]
  },
  {
   "cell_type": "code",
   "execution_count": 17,
   "metadata": {},
   "outputs": [
    {
     "data": {
      "text/plain": [
       "<matplotlib.axes._subplots.AxesSubplot at 0x25fbec8d4c8>"
      ]
     },
     "execution_count": 17,
     "metadata": {},
     "output_type": "execute_result"
    },
    {
     "data": {
      "image/png": "[encoded data removed]",
      "text/plain": [
       "<Figure size 432x288 with 1 Axes>"
      ]
     },
     "metadata": {},
     "output_type": "display_data"
    }
   ],
   "source": [
    "\n",
    "plt.style.use('ggplot')\n",
    "sns.countplot(y='education', hue='income', data = census)\n"
   ]
  },
  {
   "cell_type": "markdown",
   "metadata": {},
   "source": [
    "b)\tWhich occupation seems to have the highest proportion of people making greater than 50K?\n",
    "\n",
    "- Exec-managerial"
   ]
  },
  {
   "cell_type": "code",
   "execution_count": 18,
   "metadata": {},
   "outputs": [
    {
     "data": {
      "text/plain": [
       "<matplotlib.axes._subplots.AxesSubplot at 0x25fbeb5a148>"
      ]
     },
     "execution_count": 18,
     "metadata": {},
     "output_type": "execute_result"
    },
    {
     "data": {
      "image/png": "[encoded data removed]",
      "text/plain": [
       "<Figure size 432x288 with 1 Axes>"
      ]
     },
     "metadata": {},
     "output_type": "display_data"
    }
   ],
   "source": [
    "\n",
    "plt.style.use('ggplot')\n",
    "sns.countplot(y='occupation', hue='income', data = census)\n"
   ]
  },
  {
   "cell_type": "markdown",
   "metadata": {},
   "source": [
    "c)\tWhat about the effect of gender in earning income greater than 50K?\n",
    "- Gender has an effect. Male seems to have more proportion of people earning >50K"
   ]
  },
  {
   "cell_type": "code",
   "execution_count": 19,
   "metadata": {},
   "outputs": [
    {
     "data": {
      "text/plain": [
       "<matplotlib.axes._subplots.AxesSubplot at 0x25fbebf93c8>"
      ]
     },
     "execution_count": 19,
     "metadata": {},
     "output_type": "execute_result"
    },
    {
     "data": {
      "image/png": "[encoded data removed]",
      "text/plain": [
       "<Figure size 432x288 with 1 Axes>"
      ]
     },
     "metadata": {},
     "output_type": "display_data"
    }
   ],
   "source": [
    "\n",
    "plt.style.use('ggplot')\n",
    "sns.countplot(x='sex', hue='income', data = census)\n"
   ]
  },
  {
   "cell_type": "code",
   "execution_count": 20,
   "metadata": {
    "scrolled": true
   },
   "outputs": [
    {
     "data": {
      "text/plain": [
       "<matplotlib.axes._subplots.AxesSubplot at 0x25fbec50608>"
      ]
     },
     "execution_count": 20,
     "metadata": {},
     "output_type": "execute_result"
    },
    {
     "data": {
      "image/png": "[encoded data removed]",
      "text/plain": [
       "<Figure size 1008x864 with 2 Axes>"
      ]
     },
     "metadata": {},
     "output_type": "display_data"
    }
   ],
   "source": [
    "# d)\tOverall which variable or variables seem to have stronger relationship with the target variable (income>50K)?\n",
    "\n",
    "corm = census.iloc[:,:-1].corr()\n",
    "masko = np.zeros_like(corm, dtype = np.bool)\n",
    "masko[np.triu_indices_from(masko)] = True\n",
    "\n",
    "fig, ax = plt.subplots(figsize = (14,12))\n",
    "sns.heatmap(corm, mask = masko, cmap = 'coolwarm', annot=True)"
   ]
  },
  {
   "cell_type": "code",
   "execution_count": 21,
   "metadata": {},
   "outputs": [],
   "source": [
    "# 8)\tAre there any attributes which may not be important for the prediction of target variable, based on the preliminary descriptive analytics? \n",
    "#Maybe 'fnlwgt’ not so much significance in doing the analysis\n"
   ]
  },
  {
   "cell_type": "markdown",
   "metadata": {},
   "source": [
    "# III.\tFitting  ML Model\n"
   ]
  },
  {
   "cell_type": "markdown",
   "metadata": {},
   "source": [
    " (Hint: some of the attributes in the dataset are categorical. If you need to convert them into numeric values use pd.get_dummies method)"
   ]
  },
  {
   "cell_type": "code",
   "execution_count": 22,
   "metadata": {},
   "outputs": [],
   "source": [
    "# converting 'income' to numerical \n",
    "census['income']=census['income'].replace('>50', 1,regex=True)\n",
    "census['income']=census['income'].replace('<=50', 0,regex=True)\n"
   ]
  },
  {
   "cell_type": "code",
   "execution_count": 23,
   "metadata": {},
   "outputs": [
    {
     "data": {
      "text/html": [
       "<div>\n",
       "<style scoped>\n",
       "    .dataframe tbody tr th:only-of-type {\n",
       "        vertical-align: middle;\n",
       "    }\n",
       "\n",
       "    .dataframe tbody tr th {\n",
       "        vertical-align: top;\n",
       "    }\n",
       "\n",
       "    .dataframe thead th {\n",
       "        text-align: right;\n",
       "    }\n",
       "</style>\n",
       "<table border=\"1\" class=\"dataframe\">\n",
       "  <thead>\n",
       "    <tr style=\"text-align: right;\">\n",
       "      <th></th>\n",
       "      <th>age</th>\n",
       "      <th>fnlwgt</th>\n",
       "      <th>education-num</th>\n",
       "      <th>capital-gain</th>\n",
       "      <th>capital-loss</th>\n",
       "      <th>hours-per-week</th>\n",
       "      <th>income</th>\n",
       "      <th>workclass_ ?</th>\n",
       "      <th>workclass_ Federal-gov</th>\n",
       "      <th>workclass_ Local-gov</th>\n",
       "      <th>...</th>\n",
       "      <th>native-country_ Portugal</th>\n",
       "      <th>native-country_ Puerto-Rico</th>\n",
       "      <th>native-country_ Scotland</th>\n",
       "      <th>native-country_ South</th>\n",
       "      <th>native-country_ Taiwan</th>\n",
       "      <th>native-country_ Thailand</th>\n",
       "      <th>native-country_ Trinadad&amp;Tobago</th>\n",
       "      <th>native-country_ United-States</th>\n",
       "      <th>native-country_ Vietnam</th>\n",
       "      <th>native-country_ Yugoslavia</th>\n",
       "    </tr>\n",
       "  </thead>\n",
       "  <tbody>\n",
       "    <tr>\n",
       "      <th>0</th>\n",
       "      <td>50.0</td>\n",
       "      <td>83311</td>\n",
       "      <td>13</td>\n",
       "      <td>0</td>\n",
       "      <td>0</td>\n",
       "      <td>13.0</td>\n",
       "      <td>0</td>\n",
       "      <td>0</td>\n",
       "      <td>0</td>\n",
       "      <td>0</td>\n",
       "      <td>...</td>\n",
       "      <td>0</td>\n",
       "      <td>0</td>\n",
       "      <td>0</td>\n",
       "      <td>0</td>\n",
       "      <td>0</td>\n",
       "      <td>0</td>\n",
       "      <td>0</td>\n",
       "      <td>1</td>\n",
       "      <td>0</td>\n",
       "      <td>0</td>\n",
       "    </tr>\n",
       "    <tr>\n",
       "      <th>1</th>\n",
       "      <td>38.0</td>\n",
       "      <td>215646</td>\n",
       "      <td>9</td>\n",
       "      <td>0</td>\n",
       "      <td>0</td>\n",
       "      <td>40.0</td>\n",
       "      <td>0</td>\n",
       "      <td>0</td>\n",
       "      <td>0</td>\n",
       "      <td>0</td>\n",
       "      <td>...</td>\n",
       "      <td>0</td>\n",
       "      <td>0</td>\n",
       "      <td>0</td>\n",
       "      <td>0</td>\n",
       "      <td>0</td>\n",
       "      <td>0</td>\n",
       "      <td>0</td>\n",
       "      <td>1</td>\n",
       "      <td>0</td>\n",
       "      <td>0</td>\n",
       "    </tr>\n",
       "    <tr>\n",
       "      <th>2</th>\n",
       "      <td>53.0</td>\n",
       "      <td>234721</td>\n",
       "      <td>7</td>\n",
       "      <td>0</td>\n",
       "      <td>0</td>\n",
       "      <td>40.0</td>\n",
       "      <td>0</td>\n",
       "      <td>0</td>\n",
       "      <td>0</td>\n",
       "      <td>0</td>\n",
       "      <td>...</td>\n",
       "      <td>0</td>\n",
       "      <td>0</td>\n",
       "      <td>0</td>\n",
       "      <td>0</td>\n",
       "      <td>0</td>\n",
       "      <td>0</td>\n",
       "      <td>0</td>\n",
       "      <td>1</td>\n",
       "      <td>0</td>\n",
       "      <td>0</td>\n",
       "    </tr>\n",
       "  </tbody>\n",
       "</table>\n",
       "<p>3 rows × 99 columns</p>\n",
       "</div>"
      ],
      "text/plain": [
       "    age  fnlwgt  education-num  capital-gain  capital-loss  hours-per-week  \\\n",
       "0  50.0   83311             13             0             0            13.0   \n",
       "1  38.0  215646              9             0             0            40.0   \n",
       "2  53.0  234721              7             0             0            40.0   \n",
       "\n",
       "   income  workclass_ ?  workclass_ Federal-gov  workclass_ Local-gov  ...  \\\n",
       "0       0             0                       0                     0  ...   \n",
       "1       0             0                       0                     0  ...   \n",
       "2       0             0                       0                     0  ...   \n",
       "\n",
       "   native-country_ Portugal  native-country_ Puerto-Rico  \\\n",
       "0                         0                            0   \n",
       "1                         0                            0   \n",
       "2                         0                            0   \n",
       "\n",
       "   native-country_ Scotland  native-country_ South  native-country_ Taiwan  \\\n",
       "0                         0                      0                       0   \n",
       "1                         0                      0                       0   \n",
       "2                         0                      0                       0   \n",
       "\n",
       "   native-country_ Thailand  native-country_ Trinadad&Tobago  \\\n",
       "0                         0                                0   \n",
       "1                         0                                0   \n",
       "2                         0                                0   \n",
       "\n",
       "   native-country_ United-States  native-country_ Vietnam  \\\n",
       "0                              1                        0   \n",
       "1                              1                        0   \n",
       "2                              1                        0   \n",
       "\n",
       "   native-country_ Yugoslavia  \n",
       "0                           0  \n",
       "1                           0  \n",
       "2                           0  \n",
       "\n",
       "[3 rows x 99 columns]"
      ]
     },
     "execution_count": 23,
     "metadata": {},
     "output_type": "execute_result"
    }
   ],
   "source": [
    "census_d=pd.get_dummies(census, prefix=None, prefix_sep='_', dummy_na=False, columns=None, sparse=False, drop_first=False, dtype=None) \n",
    "census_d.head(3)"
   ]
  },
  {
   "cell_type": "code",
   "execution_count": 24,
   "metadata": {},
   "outputs": [
    {
     "data": {
      "text/html": [
       "<div>\n",
       "<style scoped>\n",
       "    .dataframe tbody tr th:only-of-type {\n",
       "        vertical-align: middle;\n",
       "    }\n",
       "\n",
       "    .dataframe tbody tr th {\n",
       "        vertical-align: top;\n",
       "    }\n",
       "\n",
       "    .dataframe thead th {\n",
       "        text-align: right;\n",
       "    }\n",
       "</style>\n",
       "<table border=\"1\" class=\"dataframe\">\n",
       "  <thead>\n",
       "    <tr style=\"text-align: right;\">\n",
       "      <th></th>\n",
       "      <th>age</th>\n",
       "      <th>fnlwgt</th>\n",
       "      <th>education-num</th>\n",
       "      <th>capital-gain</th>\n",
       "      <th>capital-loss</th>\n",
       "      <th>hours-per-week</th>\n",
       "      <th>workclass_ ?</th>\n",
       "      <th>workclass_ Federal-gov</th>\n",
       "      <th>workclass_ Local-gov</th>\n",
       "      <th>workclass_ Never-worked</th>\n",
       "      <th>...</th>\n",
       "      <th>native-country_ Portugal</th>\n",
       "      <th>native-country_ Puerto-Rico</th>\n",
       "      <th>native-country_ Scotland</th>\n",
       "      <th>native-country_ South</th>\n",
       "      <th>native-country_ Taiwan</th>\n",
       "      <th>native-country_ Thailand</th>\n",
       "      <th>native-country_ Trinadad&amp;Tobago</th>\n",
       "      <th>native-country_ United-States</th>\n",
       "      <th>native-country_ Vietnam</th>\n",
       "      <th>native-country_ Yugoslavia</th>\n",
       "    </tr>\n",
       "  </thead>\n",
       "  <tbody>\n",
       "    <tr>\n",
       "      <th>0</th>\n",
       "      <td>50.0</td>\n",
       "      <td>83311</td>\n",
       "      <td>13</td>\n",
       "      <td>0</td>\n",
       "      <td>0</td>\n",
       "      <td>13.0</td>\n",
       "      <td>0</td>\n",
       "      <td>0</td>\n",
       "      <td>0</td>\n",
       "      <td>0</td>\n",
       "      <td>...</td>\n",
       "      <td>0</td>\n",
       "      <td>0</td>\n",
       "      <td>0</td>\n",
       "      <td>0</td>\n",
       "      <td>0</td>\n",
       "      <td>0</td>\n",
       "      <td>0</td>\n",
       "      <td>1</td>\n",
       "      <td>0</td>\n",
       "      <td>0</td>\n",
       "    </tr>\n",
       "    <tr>\n",
       "      <th>1</th>\n",
       "      <td>38.0</td>\n",
       "      <td>215646</td>\n",
       "      <td>9</td>\n",
       "      <td>0</td>\n",
       "      <td>0</td>\n",
       "      <td>40.0</td>\n",
       "      <td>0</td>\n",
       "      <td>0</td>\n",
       "      <td>0</td>\n",
       "      <td>0</td>\n",
       "      <td>...</td>\n",
       "      <td>0</td>\n",
       "      <td>0</td>\n",
       "      <td>0</td>\n",
       "      <td>0</td>\n",
       "      <td>0</td>\n",
       "      <td>0</td>\n",
       "      <td>0</td>\n",
       "      <td>1</td>\n",
       "      <td>0</td>\n",
       "      <td>0</td>\n",
       "    </tr>\n",
       "    <tr>\n",
       "      <th>2</th>\n",
       "      <td>53.0</td>\n",
       "      <td>234721</td>\n",
       "      <td>7</td>\n",
       "      <td>0</td>\n",
       "      <td>0</td>\n",
       "      <td>40.0</td>\n",
       "      <td>0</td>\n",
       "      <td>0</td>\n",
       "      <td>0</td>\n",
       "      <td>0</td>\n",
       "      <td>...</td>\n",
       "      <td>0</td>\n",
       "      <td>0</td>\n",
       "      <td>0</td>\n",
       "      <td>0</td>\n",
       "      <td>0</td>\n",
       "      <td>0</td>\n",
       "      <td>0</td>\n",
       "      <td>1</td>\n",
       "      <td>0</td>\n",
       "      <td>0</td>\n",
       "    </tr>\n",
       "    <tr>\n",
       "      <th>3</th>\n",
       "      <td>28.0</td>\n",
       "      <td>338409</td>\n",
       "      <td>13</td>\n",
       "      <td>0</td>\n",
       "      <td>0</td>\n",
       "      <td>40.0</td>\n",
       "      <td>0</td>\n",
       "      <td>0</td>\n",
       "      <td>0</td>\n",
       "      <td>0</td>\n",
       "      <td>...</td>\n",
       "      <td>0</td>\n",
       "      <td>0</td>\n",
       "      <td>0</td>\n",
       "      <td>0</td>\n",
       "      <td>0</td>\n",
       "      <td>0</td>\n",
       "      <td>0</td>\n",
       "      <td>0</td>\n",
       "      <td>0</td>\n",
       "      <td>0</td>\n",
       "    </tr>\n",
       "    <tr>\n",
       "      <th>4</th>\n",
       "      <td>37.0</td>\n",
       "      <td>284582</td>\n",
       "      <td>14</td>\n",
       "      <td>0</td>\n",
       "      <td>0</td>\n",
       "      <td>40.0</td>\n",
       "      <td>0</td>\n",
       "      <td>0</td>\n",
       "      <td>0</td>\n",
       "      <td>0</td>\n",
       "      <td>...</td>\n",
       "      <td>0</td>\n",
       "      <td>0</td>\n",
       "      <td>0</td>\n",
       "      <td>0</td>\n",
       "      <td>0</td>\n",
       "      <td>0</td>\n",
       "      <td>0</td>\n",
       "      <td>1</td>\n",
       "      <td>0</td>\n",
       "      <td>0</td>\n",
       "    </tr>\n",
       "  </tbody>\n",
       "</table>\n",
       "<p>5 rows × 98 columns</p>\n",
       "</div>"
      ],
      "text/plain": [
       "    age  fnlwgt  education-num  capital-gain  capital-loss  hours-per-week  \\\n",
       "0  50.0   83311             13             0             0            13.0   \n",
       "1  38.0  215646              9             0             0            40.0   \n",
       "2  53.0  234721              7             0             0            40.0   \n",
       "3  28.0  338409             13             0             0            40.0   \n",
       "4  37.0  284582             14             0             0            40.0   \n",
       "\n",
       "   workclass_ ?  workclass_ Federal-gov  workclass_ Local-gov  \\\n",
       "0             0                       0                     0   \n",
       "1             0                       0                     0   \n",
       "2             0                       0                     0   \n",
       "3             0                       0                     0   \n",
       "4             0                       0                     0   \n",
       "\n",
       "   workclass_ Never-worked  ...  native-country_ Portugal  \\\n",
       "0                        0  ...                         0   \n",
       "1                        0  ...                         0   \n",
       "2                        0  ...                         0   \n",
       "3                        0  ...                         0   \n",
       "4                        0  ...                         0   \n",
       "\n",
       "   native-country_ Puerto-Rico  native-country_ Scotland  \\\n",
       "0                            0                         0   \n",
       "1                            0                         0   \n",
       "2                            0                         0   \n",
       "3                            0                         0   \n",
       "4                            0                         0   \n",
       "\n",
       "   native-country_ South  native-country_ Taiwan  native-country_ Thailand  \\\n",
       "0                      0                       0                         0   \n",
       "1                      0                       0                         0   \n",
       "2                      0                       0                         0   \n",
       "3                      0                       0                         0   \n",
       "4                      0                       0                         0   \n",
       "\n",
       "   native-country_ Trinadad&Tobago  native-country_ United-States  \\\n",
       "0                                0                              1   \n",
       "1                                0                              1   \n",
       "2                                0                              1   \n",
       "3                                0                              0   \n",
       "4                                0                              1   \n",
       "\n",
       "   native-country_ Vietnam  native-country_ Yugoslavia  \n",
       "0                        0                           0  \n",
       "1                        0                           0  \n",
       "2                        0                           0  \n",
       "3                        0                           0  \n",
       "4                        0                           0  \n",
       "\n",
       "[5 rows x 98 columns]"
      ]
     },
     "execution_count": 24,
     "metadata": {},
     "output_type": "execute_result"
    }
   ],
   "source": [
    "#seprating the target variable 'income' from all the independent variables\n",
    "X = census_d.loc[:,census_d.columns != 'income']\n",
    "X.head()"
   ]
  },
  {
   "cell_type": "code",
   "execution_count": 25,
   "metadata": {},
   "outputs": [
    {
     "data": {
      "text/plain": [
       "0    0\n",
       "1    0\n",
       "2    0\n",
       "3    0\n",
       "4    0\n",
       "Name: income, dtype: int64"
      ]
     },
     "execution_count": 25,
     "metadata": {},
     "output_type": "execute_result"
    }
   ],
   "source": [
    "y = census_d.loc[:,'income']\n",
    "y.head()"
   ]
  },
  {
   "cell_type": "code",
   "execution_count": 26,
   "metadata": {},
   "outputs": [],
   "source": [
    "from sklearn.model_selection import train_test_split"
   ]
  },
  {
   "cell_type": "code",
   "execution_count": 27,
   "metadata": {},
   "outputs": [],
   "source": [
    "X_train, X_test, y_train, y_test = train_test_split(X, y, random_state = 10)"
   ]
  },
  {
   "cell_type": "code",
   "execution_count": 28,
   "metadata": {},
   "outputs": [],
   "source": [
    "# Dummy Classifier"
   ]
  },
  {
   "cell_type": "code",
   "execution_count": 29,
   "metadata": {},
   "outputs": [
    {
     "data": {
      "text/plain": [
       "array([0, 0, 0, 0, 0], dtype=int64)"
      ]
     },
     "execution_count": 29,
     "metadata": {},
     "output_type": "execute_result"
    }
   ],
   "source": [
    "# 9)\tStart with a dummy classifier to establish the base line metrics. With random_state=0, and most frequent strategy, what is the baseline accuracy for dummy classifier?\n",
    "\n",
    "from sklearn.dummy import DummyClassifier\n",
    "from sklearn.metrics import confusion_matrix\n",
    "from sklearn.metrics import recall_score, precision_score, accuracy_score,f1_score\n",
    "\n",
    "dummy = DummyClassifier(strategy = 'most_frequent', random_state=0)\n",
    "dummy.fit(X_train, y_train)\n",
    "\n",
    "ydummy_train = dummy.predict(X_train)\n",
    "ydummy_train[0:5]"
   ]
  },
  {
   "cell_type": "code",
   "execution_count": 30,
   "metadata": {},
   "outputs": [
    {
     "name": "stdout",
     "output_type": "stream",
     "text": [
      "Confusion matrix for DummyClassifier is : \n",
      " \n",
      " [[9239    0]\n",
      " [2959    0]]\n"
     ]
    }
   ],
   "source": [
    "ydummy_test = dummy.predict(X_test)\n",
    "print ('Confusion matrix for DummyClassifier is : \\n \\n', confusion_matrix(y_test,ydummy_test))"
   ]
  },
  {
   "cell_type": "code",
   "execution_count": 31,
   "metadata": {},
   "outputs": [
    {
     "name": "stdout",
     "output_type": "stream",
     "text": [
      "Accuracy score for DummyClassifier is : \n",
      " \n",
      " 0.7574192490572225\n"
     ]
    }
   ],
   "source": [
    "# baseline accuracy for dummy classifier is 75%\n",
    "print ('Accuracy score for DummyClassifier is : \\n \\n', accuracy_score(y_test, ydummy_test))"
   ]
  },
  {
   "cell_type": "markdown",
   "metadata": {},
   "source": [
    "10)\tStart with any classification model and fit it on training data and then make predictions on the test data (the goal is to get good predictive accuracy on test data). Look at different metrics (accuracy, precision, recall, f1-score, and AUC scores).\n",
    "\n"
   ]
  },
  {
   "cell_type": "markdown",
   "metadata": {},
   "source": [
    "# Logistics Regression\n",
    "\n"
   ]
  },
  {
   "cell_type": "markdown",
   "metadata": {},
   "source": [
    "Training, Predictions, Confusion matrix, & scores"
   ]
  },
  {
   "cell_type": "code",
   "execution_count": 32,
   "metadata": {},
   "outputs": [
    {
     "name": "stdout",
     "output_type": "stream",
     "text": [
      "confusion matrix for training data is : \n",
      " [[26970   899]\n",
      " [ 6482  2240]] \n",
      " \n",
      "\n",
      "confusion_matrix for test data is : \n",
      " [[8958  281]\n",
      " [2223  736]] \n",
      "\n"
     ]
    }
   ],
   "source": [
    "from sklearn.linear_model import LogisticRegression\n",
    "\n",
    "logr = LogisticRegression(random_state=10)\n",
    "logr.fit(X_train, y_train)\n",
    "\n",
    "ypred_train_logr = logr.predict(X_train)\n",
    "ypred_test_logr = logr.predict(X_test)\n",
    "\n",
    "print ('confusion matrix for training data is : \\n', confusion_matrix(y_train,ypred_train_logr), '\\n', '\\n')\n",
    "print ('confusion_matrix for test data is : \\n', confusion_matrix(y_test,ypred_test_logr), '\\n')\n"
   ]
  },
  {
   "cell_type": "markdown",
   "metadata": {},
   "source": [
    "# Accuracy, Recall & Precision on training data"
   ]
  },
  {
   "cell_type": "code",
   "execution_count": 33,
   "metadata": {},
   "outputs": [
    {
     "name": "stdout",
     "output_type": "stream",
     "text": [
      "Accuracy for train data is : \n",
      " 0.7982837309720969 \n",
      "\n",
      "Recall for train data is : \n",
      " 0.2568218298555377 \n",
      "\n",
      "Precision for train data is : \n",
      " 0.7136030582988213 \n",
      "\n",
      "f1-score for train data is : \n",
      " 0.37770845628530475 \n",
      "\n"
     ]
    }
   ],
   "source": [
    "print ('Accuracy for train data is : \\n', accuracy_score(y_train,ypred_train_logr), '\\n')\n",
    "print ('Recall for train data is : \\n', recall_score(y_train,ypred_train_logr), '\\n')\n",
    "print ('Precision for train data is : \\n', precision_score(y_train,ypred_train_logr), '\\n')\n",
    "print ('f1-score for train data is : \\n', f1_score(y_train,ypred_train_logr), '\\n')"
   ]
  },
  {
   "cell_type": "markdown",
   "metadata": {},
   "source": [
    "# Accuracy, Recall & Precision on test data"
   ]
  },
  {
   "cell_type": "code",
   "execution_count": 34,
   "metadata": {},
   "outputs": [
    {
     "name": "stdout",
     "output_type": "stream",
     "text": [
      "Accuracy for test data is : \n",
      " 0.79472044597475 \n",
      "\n",
      "Recall for test data is : \n",
      " 0.24873267995944576 \n",
      "\n",
      "Precision for test data is : \n",
      " 0.7236971484759095 \n",
      "\n",
      "f1-score for test data is : \n",
      " 0.3702213279678068 \n",
      "\n"
     ]
    }
   ],
   "source": [
    "print ('Accuracy for test data is : \\n', accuracy_score(y_test,ypred_test_logr), '\\n')\n",
    "print ('Recall for test data is : \\n', recall_score(y_test,ypred_test_logr), '\\n')\n",
    "print ('Precision for test data is : \\n', precision_score(y_test,ypred_test_logr), '\\n')\n",
    "print ('f1-score for test data is : \\n', f1_score(y_test,ypred_test_logr), '\\n')"
   ]
  },
  {
   "cell_type": "markdown",
   "metadata": {},
   "source": [
    "# Predicting actual probabilities"
   ]
  },
  {
   "cell_type": "code",
   "execution_count": 35,
   "metadata": {},
   "outputs": [
    {
     "name": "stdout",
     "output_type": "stream",
     "text": [
      "AUC Score for logistic regression is 0.5691256714368294\n"
     ]
    }
   ],
   "source": [
    "from sklearn.metrics import roc_curve, roc_auc_score, auc\n",
    "yprob_test_logr = logr.predict_proba(X_test)\n",
    "\n",
    "print ('AUC Score for logistic regression is', roc_auc_score(y_test,yprob_test_logr[:,1]))"
   ]
  },
  {
   "cell_type": "markdown",
   "metadata": {},
   "source": [
    "# IV.\tOptimize ML models"
   ]
  },
  {
   "cell_type": "markdown",
   "metadata": {},
   "source": [
    "# Decision Trees"
   ]
  },
  {
   "cell_type": "code",
   "execution_count": 36,
   "metadata": {},
   "outputs": [
    {
     "name": "stdout",
     "output_type": "stream",
     "text": [
      "confusion matrix for training data for default threshold of 0.5  is : \n",
      " [[27869     0]\n",
      " [    3  8719]] \n",
      " \n",
      "\n",
      "confusion_matrix for test data for default threshol of 0.5 is : \n",
      " [[8033 1206]\n",
      " [1065 1894]] \n",
      "\n"
     ]
    }
   ],
   "source": [
    "from sklearn.tree import DecisionTreeClassifier\n",
    "dt = DecisionTreeClassifier(random_state=15)\n",
    "dt.fit(X_train,y_train)\n",
    "\n",
    "ypred_train_dt = dt.predict(X_train) # Predictions on training data for DecisionTreeClassifer()\n",
    "ypred_test_dt = dt.predict(X_test) # Predictions on testing data for DecisionTreeClassifer()\n",
    "\n",
    "print ('confusion matrix for training data for default threshold of 0.5  is : \\n', confusion_matrix(y_train,ypred_train_dt), '\\n', '\\n')\n",
    "print ('confusion_matrix for test data for default threshol of 0.5 is : \\n', confusion_matrix(y_test,ypred_test_dt), '\\n')"
   ]
  },
  {
   "cell_type": "markdown",
   "metadata": {},
   "source": [
    "# Scores on test data for Decision Trees"
   ]
  },
  {
   "cell_type": "code",
   "execution_count": 37,
   "metadata": {},
   "outputs": [
    {
     "name": "stdout",
     "output_type": "stream",
     "text": [
      "AUC score for test data with DT is : \n",
      " 0.7547347939976007\n"
     ]
    }
   ],
   "source": [
    "yprob_test_dt = dt.predict_proba(X_test)\n",
    "\n",
    "print ('AUC score for test data with DT is : \\n', roc_auc_score(y_test,yprob_test_dt[:,1]))\n"
   ]
  },
  {
   "cell_type": "markdown",
   "metadata": {},
   "source": [
    "# RandomForest"
   ]
  },
  {
   "cell_type": "code",
   "execution_count": 38,
   "metadata": {},
   "outputs": [
    {
     "name": "stdout",
     "output_type": "stream",
     "text": [
      "confusion matrix for training data for default threshold is : \n",
      " [[27867     2]\n",
      " [    2  8720]] \n",
      " \n",
      "\n",
      "confusion_matrix for test data for default threshold is : \n",
      " [[8570  669]\n",
      " [1110 1849]] \n",
      "\n"
     ]
    }
   ],
   "source": [
    "from sklearn.ensemble import RandomForestClassifier\n",
    "\n",
    "rf = RandomForestClassifier(random_state=0)\n",
    "rf.fit(X_train,y_train)\n",
    "\n",
    "ypred_train_rf = rf.predict(X_train) \n",
    "ypred_test_rf = rf.predict(X_test) \n",
    "\n",
    "print ('confusion matrix for training data for default threshold is : \\n', confusion_matrix(y_train,ypred_train_rf), '\\n', '\\n')\n",
    "print ('confusion_matrix for test data for default threshold is : \\n', confusion_matrix(y_test,ypred_test_rf), '\\n')\n"
   ]
  },
  {
   "cell_type": "markdown",
   "metadata": {},
   "source": [
    "# Scores on test data for RandomForest"
   ]
  },
  {
   "cell_type": "code",
   "execution_count": 39,
   "metadata": {},
   "outputs": [
    {
     "name": "stdout",
     "output_type": "stream",
     "text": [
      "AUC score for test data with RF is : \n",
      " 0.9046233693285085\n"
     ]
    }
   ],
   "source": [
    "yprob_test_rf = rf.predict_proba(X_test) \n",
    "\n",
    "print ('AUC score for test data with RF is : \\n', roc_auc_score(y_test,yprob_test_rf[:,1]))"
   ]
  },
  {
   "cell_type": "markdown",
   "metadata": {},
   "source": [
    "12)\tTabulate and compare between different models in predicting the income>50K.  Which model performed the best and what were the parameters, or strategies employed?\n",
    "\n",
    "#Random forest performed the best. I did not employ any specific strategy to it. I used all the parameters as I did on other models"
   ]
  },
  {
   "cell_type": "markdown",
   "metadata": {},
   "source": [
    "# Comparing AUC scores for all the models"
   ]
  },
  {
   "cell_type": "code",
   "execution_count": 40,
   "metadata": {},
   "outputs": [
    {
     "data": {
      "text/plain": [
       "Logistic    0.569126\n",
       "DT          0.754735\n",
       "RF          0.904623\n",
       "dtype: float64"
      ]
     },
     "execution_count": 40,
     "metadata": {},
     "output_type": "execute_result"
    }
   ],
   "source": [
    "auc_score = []\n",
    "auc_score.append(roc_auc_score(y_test,yprob_test_logr[:,1]))\n",
    "auc_score.append(roc_auc_score(y_test,yprob_test_dt[:,1]))\n",
    "auc_score.append(roc_auc_score(y_test,yprob_test_rf[:,1]))\n",
    "auc_scores = pd.Series(auc_score, index = ['Logistic', 'DT', 'RF'])\n",
    "auc_scores"
   ]
  },
  {
   "cell_type": "markdown",
   "metadata": {},
   "source": [
    "# SUMMARY"
   ]
  },
  {
   "cell_type": "markdown",
   "metadata": {},
   "source": [
    "- The majority of the people have an income of >=50K\n",
    "- Both gender and education level are significant on predictng likelihood of more than 50k per year"
   ]
  }
 ],
 "metadata": {
  "kernelspec": {
   "display_name": "Python 3 (ipykernel)",
   "language": "python",
   "name": "python3"
  },
  "language_info": {
   "codemirror_mode": {
    "name": "ipython",
    "version": 3
   },
   "file_extension": ".py",
   "mimetype": "text/x-python",
   "name": "python",
   "nbconvert_exporter": "python",
   "pygments_lexer": "ipython3",
   "version": "3.9.7"
  }
 },
 "nbformat": 4,
 "nbformat_minor": 4
}
